{
 "cells": [
  {
   "cell_type": "code",
   "execution_count": 1,
   "metadata": {},
   "outputs": [],
   "source": [
    "import torch\n",
    "import subprocess"
   ]
  },
  {
   "cell_type": "code",
   "execution_count": 2,
   "metadata": {},
   "outputs": [],
   "source": [
    "model_file = '../../tuning_results/conv_net_2_layer/TR4_reeval2_GPU/ConvNet_model_ConvNet2/model_nn_epoch_87.pt'\n",
    "seqs_file = '../../data_preprocessed/genome/Seq_masked_wo_target_test.pt'\n",
    "targets_file = '../../data_preprocessed/genome/Target_C02M02_masked_arcsinh_test.pt'"
   ]
  },
  {
   "cell_type": "code",
   "execution_count": 3,
   "metadata": {
    "tags": []
   },
   "outputs": [],
   "source": [
    "model = torch.load(model_file, map_location=torch.device('cpu'))\n",
    "torch.save(model, 'old_format_pytorch_save/final_model.pt', _use_new_zipfile_serialization=False)"
   ]
  },
  {
   "cell_type": "code",
   "execution_count": 4,
   "metadata": {},
   "outputs": [],
   "source": [
    "#seqs = torch.load(seqs_file)\n",
    "#torch.save(seqs, 'old_format_pytorch_save/Seq_masked_wo_target_test.pt', _use_new_zipfile_serialization=False)\n",
    "\n",
    "#targets = torch.load(targets_file)\n",
    "#torch.save(targets, 'old_format_pytorch_save/Target_C02M02_masked_arcsinh_test.pt', _use_new_zipfile_serialization=False)"
   ]
  },
  {
   "cell_type": "code",
   "execution_count": null,
   "metadata": {},
   "outputs": [],
   "source": [
    "#switch environment to nnPiB_motif_analysis_py36"
   ]
  },
  {
   "cell_type": "code",
   "execution_count": 2,
   "metadata": {},
   "outputs": [],
   "source": [
    "model_file = 'old_format_pytorch_save/model_nn_epoch_60.pt'\n",
    "seqs_file = 'old_format_pytorch_save/Seq_masked_wo_target_test.pt'\n",
    "targets_file = 'old_format_pytorch_save/Target_C02M02_masked_arcsinh_test.pt'"
   ]
  },
  {
   "cell_type": "code",
   "execution_count": 6,
   "metadata": {
    "tags": []
   },
   "outputs": [
    {
     "data": {
      "text/plain": [
       "0"
      ]
     },
     "execution_count": 6,
     "metadata": {},
     "output_type": "execute_result"
    }
   ],
   "source": [
    "\n",
    "cmd = f'python3 motif_analysis.py'\n",
    "subprocess.call(cmd, shell=True)"
   ]
  },
  {
   "cell_type": "code",
   "execution_count": null,
   "metadata": {},
   "outputs": [],
   "source": []
  }
 ],
 "metadata": {
  "kernelspec": {
   "display_name": "Python 3",
   "language": "python",
   "name": "python3"
  },
  "language_info": {
   "codemirror_mode": {
    "name": "ipython",
    "version": 3
   },
   "file_extension": ".py",
   "mimetype": "text/x-python",
   "name": "python",
   "nbconvert_exporter": "python",
   "pygments_lexer": "ipython3",
   "version": "3.6.10"
  }
 },
 "nbformat": 4,
 "nbformat_minor": 5
}
