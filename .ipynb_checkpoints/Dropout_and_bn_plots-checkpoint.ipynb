{
 "cells": [
  {
   "cell_type": "code",
   "execution_count": 60,
   "id": "1b704747-7f4b-4304-af5b-e7eb4f8ec436",
   "metadata": {},
   "outputs": [],
   "source": [
    "library(ggplot2)"
   ]
  },
  {
   "cell_type": "code",
   "execution_count": 149,
   "id": "3583164d-3ef6-4e6d-b18e-89bc2f5c906b",
   "metadata": {},
   "outputs": [],
   "source": [
    "data <- read.csv(\"data/Contour_plot/NN.csv\", sep = \";\")"
   ]
  },
  {
   "cell_type": "code",
   "execution_count": 150,
   "id": "75178b9e-72ba-458e-bff3-5c5ba95075bc",
   "metadata": {},
   "outputs": [
    {
     "data": {
      "text/html": [
       "<table>\n",
       "<thead><tr><th scope=col>Weight</th><th scope=col>Hidden_size</th><th scope=col>Val_loss</th></tr></thead>\n",
       "<tbody>\n",
       "\t<tr><td>0.10     </td><td>100      </td><td>0.1981107</td></tr>\n",
       "\t<tr><td>0.10     </td><td>200      </td><td>0.1982676</td></tr>\n",
       "\t<tr><td>0.10     </td><td>300      </td><td>0.1985975</td></tr>\n",
       "\t<tr><td>0.10     </td><td>400      </td><td>0.1986598</td></tr>\n",
       "\t<tr><td>0.10     </td><td>500      </td><td>0.1983370</td></tr>\n",
       "\t<tr><td>0.01     </td><td>100      </td><td>0.1884857</td></tr>\n",
       "</tbody>\n",
       "</table>\n"
      ],
      "text/latex": [
       "\\begin{tabular}{r|lll}\n",
       " Weight & Hidden\\_size & Val\\_loss\\\\\n",
       "\\hline\n",
       "\t 0.10      & 100       & 0.1981107\\\\\n",
       "\t 0.10      & 200       & 0.1982676\\\\\n",
       "\t 0.10      & 300       & 0.1985975\\\\\n",
       "\t 0.10      & 400       & 0.1986598\\\\\n",
       "\t 0.10      & 500       & 0.1983370\\\\\n",
       "\t 0.01      & 100       & 0.1884857\\\\\n",
       "\\end{tabular}\n"
      ],
      "text/markdown": [
       "\n",
       "| Weight | Hidden_size | Val_loss |\n",
       "|---|---|---|\n",
       "| 0.10      | 100       | 0.1981107 |\n",
       "| 0.10      | 200       | 0.1982676 |\n",
       "| 0.10      | 300       | 0.1985975 |\n",
       "| 0.10      | 400       | 0.1986598 |\n",
       "| 0.10      | 500       | 0.1983370 |\n",
       "| 0.01      | 100       | 0.1884857 |\n",
       "\n"
      ],
      "text/plain": [
       "  Weight Hidden_size Val_loss \n",
       "1 0.10   100         0.1981107\n",
       "2 0.10   200         0.1982676\n",
       "3 0.10   300         0.1985975\n",
       "4 0.10   400         0.1986598\n",
       "5 0.10   500         0.1983370\n",
       "6 0.01   100         0.1884857"
      ]
     },
     "metadata": {},
     "output_type": "display_data"
    }
   ],
   "source": [
    "head(data)"
   ]
  },
  {
   "cell_type": "code",
   "execution_count": 151,
   "id": "cb8e380e-c285-4b92-9b89-22a8f1392918",
   "metadata": {},
   "outputs": [
    {
     "name": "stdout",
     "output_type": "stream",
     "text": [
      "'data.frame':\t40 obs. of  3 variables:\n",
      " $ Weight     : num  0.1 0.1 0.1 0.1 0.1 0.01 0.01 0.01 0.01 0.01 ...\n",
      " $ Hidden_size: int  100 200 300 400 500 100 200 300 400 500 ...\n",
      " $ Val_loss   : num  0.198 0.198 0.199 0.199 0.198 ...\n"
     ]
    }
   ],
   "source": [
    "str(data)"
   ]
  },
  {
   "cell_type": "code",
   "execution_count": 152,
   "id": "aaa8966b-98b0-4a84-8c7f-19670ab3ba58",
   "metadata": {},
   "outputs": [],
   "source": [
    "data$Weight <- as.factor(data$Weight)"
   ]
  },
  {
   "cell_type": "code",
   "execution_count": 153,
   "id": "130875d6-e716-4946-b7ab-2ebaa2458c2a",
   "metadata": {},
   "outputs": [],
   "source": [
    "p1 <- ggplot(data = data)+\n",
    "    geom_point(aes(x=Hidden_size, y=Val_loss, colour = Weight)) + \n",
    "    xlab(\"Size of the hidden layer\")+\n",
    "    ylab(\"Validation loss\")+\n",
    "    ggtitle(\"Neural Net\")+\n",
    "    theme_minimal()+\n",
    "    theme(text = element_text(size = 20))  \n",
    "    #geom_line(aes(x=Hidden_size, y=Val_loss))\n"
   ]
  },
  {
   "cell_type": "code",
   "execution_count": 154,
   "id": "7fa242ac-5ab3-4402-b929-8c29ced9a04a",
   "metadata": {},
   "outputs": [],
   "source": [
    "#ggsave(\"NN_do.png\")"
   ]
  },
  {
   "cell_type": "code",
   "execution_count": 155,
   "id": "ee3d4055-4d4d-4378-945d-08ff822ac8a3",
   "metadata": {},
   "outputs": [
    {
     "data": {
      "text/html": [
       "<strong>png:</strong> 2"
      ],
      "text/latex": [
       "\\textbf{png:} 2"
      ],
      "text/markdown": [
       "**png:** 2"
      ],
      "text/plain": [
       "png \n",
       "  2 "
      ]
     },
     "metadata": {},
     "output_type": "display_data"
    }
   ],
   "source": [
    "png(\"Plots/NN.png\")\n",
    "print(p1)\n",
    "dev.off()"
   ]
  },
  {
   "cell_type": "code",
   "execution_count": null,
   "id": "747e48ae-c061-4f0b-9e73-3ee99baad81e",
   "metadata": {},
   "outputs": [],
   "source": []
  }
 ],
 "metadata": {
  "kernelspec": {
   "display_name": "R",
   "language": "R",
   "name": "ir"
  },
  "language_info": {
   "codemirror_mode": "r",
   "file_extension": ".r",
   "mimetype": "text/x-r-source",
   "name": "R",
   "pygments_lexer": "r",
   "version": "3.6.1"
  }
 },
 "nbformat": 4,
 "nbformat_minor": 5
}
