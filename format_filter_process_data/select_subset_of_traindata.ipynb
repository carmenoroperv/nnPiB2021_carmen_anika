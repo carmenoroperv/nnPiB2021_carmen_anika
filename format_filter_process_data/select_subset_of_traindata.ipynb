{
 "cells": [
  {
   "cell_type": "code",
   "execution_count": 1,
   "id": "e52373db-e63e-490b-baf6-da4cc949a84c",
   "metadata": {},
   "outputs": [],
   "source": [
    "import torch"
   ]
  },
  {
   "cell_type": "code",
   "execution_count": 2,
   "id": "d0a7ca93-6374-44af-9391-5cfe4fb7f290",
   "metadata": {},
   "outputs": [],
   "source": [
    "train_seq_full = torch.load(\"../data_preprocessed/genome/Seq_masked_wo_target_train.pt\")\n",
    "train_target_full = torch.load(\"../data_preprocessed/genome/Target_C02M02_masked_arcsinh_train.pt\")"
   ]
  },
  {
   "cell_type": "code",
   "execution_count": 3,
   "id": "fd1a6eec-e95e-43c9-a18d-caf76e304f6e",
   "metadata": {},
   "outputs": [
    {
     "data": {
      "text/plain": [
       "11410422"
      ]
     },
     "execution_count": 3,
     "metadata": {},
     "output_type": "execute_result"
    }
   ],
   "source": [
    "train_seq_full.shape[0]"
   ]
  },
  {
   "cell_type": "code",
   "execution_count": 4,
   "id": "10f40da1-b6fd-460d-8a81-e205578f9317",
   "metadata": {},
   "outputs": [],
   "source": [
    "indices_20 = [*range(0, train_seq_full.shape[0], 5)]\n",
    "indices_50 = [*range(0, train_seq_full.shape[0], 2)]\n",
    "indices_80 = []\n",
    "\n",
    "for i in range(0, train_seq_full.shape[0]):\n",
    "    if i % 5 == 0 and i != 0:\n",
    "        continue\n",
    "    indices_80.append(i)"
   ]
  },
  {
   "cell_type": "code",
   "execution_count": 5,
   "id": "4af4e21a-6390-40fd-8594-9fb9c1bff6b1",
   "metadata": {},
   "outputs": [
    {
     "name": "stdout",
     "output_type": "stream",
     "text": [
      "[0, 5, 10, 15, 20, 25]\n",
      "[0, 2, 4, 6, 8, 10]\n",
      "[0, 1, 2, 3, 4, 6]\n"
     ]
    }
   ],
   "source": [
    "print(indices_20[0:6])\n",
    "print(indices_50[0:6])\n",
    "print(indices_80[0:6])"
   ]
  },
  {
   "cell_type": "code",
   "execution_count": 6,
   "id": "6677303b-1295-4e69-b6c0-68b0553d15ba",
   "metadata": {},
   "outputs": [],
   "source": [
    "train_seq_20  = train_seq_full[indices_20]\n",
    "train_seq_50  = train_seq_full[indices_50]\n",
    "train_seq_80  = train_seq_full[indices_80]\n",
    "\n",
    "train_target_20  = train_target_full[indices_20]\n",
    "train_target_50  = train_target_full[indices_50]\n",
    "train_target_80  = train_target_full[indices_80]"
   ]
  },
  {
   "cell_type": "code",
   "execution_count": 11,
   "id": "501b1071-a5f8-492c-b6b0-d0b7b652b247",
   "metadata": {},
   "outputs": [
    {
     "name": "stdout",
     "output_type": "stream",
     "text": [
      "2282085\n",
      "2282085\n",
      "20.000005258350654\n"
     ]
    }
   ],
   "source": [
    "print(train_seq_20.shape[0])\n",
    "print(train_target_20.shape[0])\n",
    "print(2282085*100/11410422)"
   ]
  },
  {
   "cell_type": "code",
   "execution_count": 12,
   "id": "60399704-d23b-427c-bc18-4d6e32f0d8cc",
   "metadata": {},
   "outputs": [
    {
     "name": "stdout",
     "output_type": "stream",
     "text": [
      "5705211\n",
      "5705211\n",
      "50.0\n"
     ]
    }
   ],
   "source": [
    "print(train_seq_50.shape[0])\n",
    "print(train_target_50.shape[0])\n",
    "print(5705211*100/11410422)"
   ]
  },
  {
   "cell_type": "code",
   "execution_count": 13,
   "id": "da703727-433f-43ef-8c27-706d894e5f72",
   "metadata": {},
   "outputs": [
    {
     "name": "stdout",
     "output_type": "stream",
     "text": [
      "9128338\n",
      "9128338\n",
      "80.00000350556711\n"
     ]
    }
   ],
   "source": [
    "print(train_seq_80.shape[0])\n",
    "print(train_target_80.shape[0])\n",
    "print(9128338*100/11410422)"
   ]
  },
  {
   "cell_type": "code",
   "execution_count": null,
   "id": "f28b3044-2d98-45a3-8e27-4b7836eefffe",
   "metadata": {},
   "outputs": [],
   "source": [
    "torch.save(train_seq_20, \"../data_preprocessed/genome_filtered/Seq_masked_wo_target_train_20.pt\")\n",
    "torch.save(train_target_20, \"../data_preprocessed/genome_filtered/Target_C02M02_masked_arcsinh_train_20.pt\")\n",
    "\n",
    "torch.save(train_seq_50, \"../data_preprocessed/genome_filtered/Seq_masked_wo_target_train_50.pt\")\n",
    "torch.save(train_target_50, \"../data_preprocessed/genome_filtered/Target_C02M02_masked_arcsinh_train_50.pt\")\n",
    "\n",
    "torch.save(train_seq_80, \"../data_preprocessed/genome_filtered/Seq_masked_wo_target_train_80.pt\")\n",
    "torch.save(train_target_80, \"../data_preprocessed/genome_filtered/Target_C02M02_masked_arcsinh_train_80.pt\")"
   ]
  },
  {
   "cell_type": "code",
   "execution_count": null,
   "id": "d373c873-8481-467d-8638-9aa65f2b9fe7",
   "metadata": {},
   "outputs": [],
   "source": [
    "#run train_model_fully_connected_one_layer.py\n",
    "# with snakefile_tune_linear_one_layer_LR_MANUAL"
   ]
  }
 ],
 "metadata": {
  "kernelspec": {
   "display_name": "Python 3 (ipykernel)",
   "language": "python",
   "name": "python3"
  },
  "language_info": {
   "codemirror_mode": {
    "name": "ipython",
    "version": 3
   },
   "file_extension": ".py",
   "mimetype": "text/x-python",
   "name": "python",
   "nbconvert_exporter": "python",
   "pygments_lexer": "ipython3",
   "version": "3.9.7"
  }
 },
 "nbformat": 4,
 "nbformat_minor": 5
}
